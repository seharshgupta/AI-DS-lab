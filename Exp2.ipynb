{
 "cells": [
  {
   "cell_type": "code",
   "execution_count": 2,
   "id": "69b16cee",
   "metadata": {},
   "outputs": [],
   "source": [
    "import numpy as np"
   ]
  },
  {
   "cell_type": "code",
   "execution_count": 3,
   "id": "32d71991",
   "metadata": {},
   "outputs": [
    {
     "name": "stdout",
     "output_type": "stream",
     "text": [
      "[1 2 3 4 5]\n"
     ]
    }
   ],
   "source": [
    "arr1 = np.array([1,2,3,4,5])\n",
    "print(arr1)"
   ]
  },
  {
   "cell_type": "code",
   "execution_count": 5,
   "id": "34353b5f",
   "metadata": {},
   "outputs": [
    {
     "name": "stdout",
     "output_type": "stream",
     "text": [
      "[[1 2 3]\n",
      " [4 5 6]]\n"
     ]
    }
   ],
   "source": [
    "arr2 = np.array([[1,2,3],[4,5,6]])\n",
    "print(arr2)"
   ]
  },
  {
   "cell_type": "code",
   "execution_count": 13,
   "id": "917ee68c",
   "metadata": {},
   "outputs": [
    {
     "name": "stdout",
     "output_type": "stream",
     "text": [
      "[[6.23042070e-307 4.67296746e-307 1.69121096e-306]\n",
      " [1.95819673e-306 1.89146896e-307 7.56571288e-307]]\n"
     ]
    }
   ],
   "source": [
    "# creates an empty 2x3 array with garbage values\n",
    "emptyArr = np.empty((2,3))\n",
    "print(emptyArr)"
   ]
  },
  {
   "cell_type": "code",
   "execution_count": 14,
   "id": "34289581",
   "metadata": {},
   "outputs": [
    {
     "name": "stdout",
     "output_type": "stream",
     "text": [
      "[[7 7 7]\n",
      " [7 7 7]]\n"
     ]
    }
   ],
   "source": [
    "# Creates a 2x3 array with value 7\n",
    "arr3 = np.full((2,3),7)\n",
    "print(arr3)"
   ]
  },
  {
   "cell_type": "code",
   "execution_count": 21,
   "id": "03bae9ae",
   "metadata": {},
   "outputs": [
    {
     "name": "stdout",
     "output_type": "stream",
     "text": [
      "[0 2 2 3 2 1]\n"
     ]
    }
   ],
   "source": [
    "arr4 = np.array([1,2,4,3,5,3,2,1,3,4])\n",
    "counts = np.bincount(arr4)          # each index in the counts array represents the frequency of that element in the given array\n",
    "print(counts)"
   ]
  },
  {
   "cell_type": "code",
   "execution_count": 22,
   "id": "11b0e380",
   "metadata": {},
   "outputs": [
    {
     "name": "stdout",
     "output_type": "stream",
     "text": [
      "4\n"
     ]
    }
   ],
   "source": [
    "maxi = np.argmax(arr4)         # returns index of max value in the array\n",
    "print(maxi)"
   ]
  },
  {
   "cell_type": "code",
   "execution_count": 30,
   "id": "4529530b",
   "metadata": {},
   "outputs": [
    {
     "name": "stdout",
     "output_type": "stream",
     "text": [
      "7\n"
     ]
    }
   ],
   "source": [
    "# Count the number of non-zero values in the array\n",
    "arr5 = np.array([1,2,4,0,3,0,2,3,50,0])\n",
    "nonZero = np.count_nonzero(arr5)\n",
    "print(nonZero)"
   ]
  },
  {
   "cell_type": "code",
   "execution_count": 33,
   "id": "c13c3556",
   "metadata": {},
   "outputs": [
    {
     "name": "stdout",
     "output_type": "stream",
     "text": [
      "[5 4 3 2 1]\n"
     ]
    }
   ],
   "source": [
    "# Reverse the numpy array\n",
    "arr6 = np.array([1,2,3,4,5])\n",
    "reversedArr = arr6[::-1]\n",
    "print(reversedArr)"
   ]
  },
  {
   "cell_type": "code",
   "execution_count": 34,
   "id": "115ed972",
   "metadata": {},
   "outputs": [
    {
     "name": "stdout",
     "output_type": "stream",
     "text": [
      "[1 2 0 0 0 3 0]\n"
     ]
    }
   ],
   "source": [
    "# Replace negative value with zero in numpy array\n",
    "arr7 = np.array([1,2,-1,-5,0,3,-9])\n",
    "arr7[arr7<0] = 0\n",
    "print(arr7)"
   ]
  },
  {
   "cell_type": "code",
   "execution_count": 35,
   "id": "3f24e250",
   "metadata": {},
   "outputs": [
    {
     "name": "stdout",
     "output_type": "stream",
     "text": [
      "[ 1.  3.  9. 10.]\n"
     ]
    }
   ],
   "source": [
    "# Get the floor values of the elements in array\n",
    "arr8 = [1.23, 3.54, 9.23, 10.213]\n",
    "floorValues = np.floor(arr8)\n",
    "print(floorValues)"
   ]
  },
  {
   "cell_type": "code",
   "execution_count": 37,
   "id": "e418f0e5",
   "metadata": {},
   "outputs": [
    {
     "name": "stdout",
     "output_type": "stream",
     "text": [
      "[ 2.  4. 10. 11.]\n"
     ]
    }
   ],
   "source": [
    "# Get the ceil valeus of all the elements in array\n",
    "arr9 = [1.23, 3.54, 9.23, 10.213]\n",
    "ceilValues = np.ceil(arr9)\n",
    "print(ceilValues)"
   ]
  },
  {
   "cell_type": "code",
   "execution_count": 38,
   "id": "94e503ee",
   "metadata": {},
   "outputs": [
    {
     "name": "stdout",
     "output_type": "stream",
     "text": [
      "[ 1.  3.  9. 10.]\n"
     ]
    }
   ],
   "source": [
    "# Get the truncated values of the elements in array\n",
    "arr10 = [1.23, 3.54, 9.23, 10.213]\n",
    "truncatedValues = np.trunc(arr10)\n",
    "print(truncatedValues)"
   ]
  },
  {
   "cell_type": "code",
   "execution_count": null,
   "id": "b8be6d38",
   "metadata": {},
   "outputs": [],
   "source": []
  }
 ],
 "metadata": {
  "kernelspec": {
   "display_name": "Python 3 (ipykernel)",
   "language": "python",
   "name": "python3"
  },
  "language_info": {
   "codemirror_mode": {
    "name": "ipython",
    "version": 3
   },
   "file_extension": ".py",
   "mimetype": "text/x-python",
   "name": "python",
   "nbconvert_exporter": "python",
   "pygments_lexer": "ipython3",
   "version": "3.12.4"
  }
 },
 "nbformat": 4,
 "nbformat_minor": 5
}
