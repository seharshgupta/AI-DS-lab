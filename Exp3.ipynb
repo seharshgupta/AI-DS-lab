{
 "cells": [
  {
   "cell_type": "markdown",
   "id": "57226bb8",
   "metadata": {},
   "source": [
    "# Creating a pandas data frame"
   ]
  },
  {
   "cell_type": "code",
   "execution_count": 1,
   "id": "db3c29b5",
   "metadata": {},
   "outputs": [],
   "source": [
    "import pandas as pd"
   ]
  },
  {
   "cell_type": "code",
   "execution_count": 2,
   "id": "5dd39ae8",
   "metadata": {},
   "outputs": [
    {
     "name": "stdout",
     "output_type": "stream",
     "text": [
      "   calories  duration\n",
      "0       420        50\n",
      "1       380        40\n",
      "2       390        45\n"
     ]
    }
   ],
   "source": [
    "# Creating a dataframe\n",
    "data = {\"calories\":[420, 380, 390], \"duration\":[50,40,45]}\n",
    "df = pd.DataFrame(data)\n",
    "print(df)"
   ]
  },
  {
   "cell_type": "code",
   "execution_count": 3,
   "id": "2c4aede7",
   "metadata": {},
   "outputs": [
    {
     "name": "stdout",
     "output_type": "stream",
     "text": [
      "   Name  Age Department  Salary\n",
      "0  John   28      Sales   50000\n",
      "1  Anna   22  Marketing   60000\n",
      "2  Mike   32         HR   40000\n",
      "3  Sara   30         IT   75000\n",
      "4  Dave   45    Finance  120000\n"
     ]
    }
   ],
   "source": [
    "data = {\n",
    "    \"Name\": ['John','Anna','Mike','Sara','Dave'],\n",
    "    \"Age\": [28, 22, 32, 30, 45],\n",
    "    \"Department\": ['Sales', 'Marketing','HR','IT','Finance'],\n",
    "    \"Salary\":[50000, 60000, 40000, 75000, 120000]                  \n",
    "}\n",
    "\n",
    "employee = pd.DataFrame(data)\n",
    "print(employee)"
   ]
  },
  {
   "cell_type": "code",
   "execution_count": 4,
   "id": "10e59730",
   "metadata": {},
   "outputs": [
    {
     "name": "stdout",
     "output_type": "stream",
     "text": [
      "   Name  Age Department  Salary\n",
      "0  John   28      Sales   50000\n",
      "1  Anna   22  Marketing   60000\n"
     ]
    }
   ],
   "source": [
    "# Display the first two rows of the DataFrame\n",
    "print(employee.head(2))"
   ]
  },
  {
   "cell_type": "code",
   "execution_count": 5,
   "id": "57670b7b",
   "metadata": {},
   "outputs": [
    {
     "name": "stdout",
     "output_type": "stream",
     "text": [
      "   Name  Age Department  Salary    Bonus\n",
      "0  John   28      Sales   50000   5000.0\n",
      "1  Anna   22  Marketing   60000   6000.0\n",
      "2  Mike   32         HR   40000   4000.0\n",
      "3  Sara   30         IT   75000   7500.0\n",
      "4  Dave   45    Finance  120000  12000.0\n"
     ]
    }
   ],
   "source": [
    "# Add a new column named Bonus which is 10% of the salary for each employee\n",
    "employee[\"Bonus\"] = employee[\"Salary\"]*0.10\n",
    "print(employee)"
   ]
  },
  {
   "cell_type": "code",
   "execution_count": 6,
   "id": "f1ea8594",
   "metadata": {},
   "outputs": [
    {
     "name": "stdout",
     "output_type": "stream",
     "text": [
      "   Name  Age Department  Salary    Bonus\n",
      "0  John   28      Sales   50000   5000.0\n",
      "1  Anna   22  Marketing   60000   6000.0\n",
      "2  Mike   33         HR   40000   4000.0\n",
      "3  Sara   30         IT   75000   7500.0\n",
      "4  Dave   45    Finance  120000  12000.0\n"
     ]
    }
   ],
   "source": [
    "# Update the age of the employee name \"Mike\" to 33.\n",
    "\n",
    "employee.loc[employee[\"Name\"]=='Mike', 'Age'] = 33\n",
    "print(employee)\n",
    "\n",
    "#Use DataFrame.loc attribute to access a particular cell in the given Pandas Dataframe using the index and column labels"
   ]
  },
  {
   "cell_type": "code",
   "execution_count": 7,
   "id": "92174a36",
   "metadata": {},
   "outputs": [
    {
     "name": "stdout",
     "output_type": "stream",
     "text": [
      "   Name  Age  Salary    Bonus\n",
      "0  John   28   50000   5000.0\n",
      "1  Anna   22   60000   6000.0\n",
      "2  Mike   33   40000   4000.0\n",
      "3  Sara   30   75000   7500.0\n",
      "4  Dave   45  120000  12000.0\n"
     ]
    }
   ],
   "source": [
    "# Delete the \"Department\" column from the dataframe.\n",
    "employee = employee.drop(columns=[\"Department\"])\n",
    "print(employee)"
   ]
  },
  {
   "cell_type": "code",
   "execution_count": 8,
   "id": "99e208f8",
   "metadata": {},
   "outputs": [
    {
     "name": "stdout",
     "output_type": "stream",
     "text": [
      "   Name  Age  Salary    Bonus\n",
      "1  Anna   22   60000   6000.0\n",
      "3  Sara   30   75000   7500.0\n",
      "4  Dave   45  120000  12000.0\n"
     ]
    }
   ],
   "source": [
    "# Filter the DataFrame to show only employees with a salary greater than 50000.\n",
    "filtered = employee[employee['Salary']>50000]\n",
    "print(filtered)"
   ]
  },
  {
   "cell_type": "code",
   "execution_count": 9,
   "id": "a717e015",
   "metadata": {},
   "outputs": [
    {
     "name": "stdout",
     "output_type": "stream",
     "text": [
      "   Name  Age  Salary    Bonus\n",
      "4  Dave   45  120000  12000.0\n",
      "3  Sara   30   75000   7500.0\n",
      "1  Anna   22   60000   6000.0\n"
     ]
    }
   ],
   "source": [
    "# Sort the DataFrame by the salary column in descending order.\n",
    "sorted = filtered.sort_values(by='Salary',ascending=False)\n",
    "print(sorted)"
   ]
  },
  {
   "cell_type": "code",
   "execution_count": 10,
   "id": "0b0d4fb5",
   "metadata": {},
   "outputs": [
    {
     "name": "stdout",
     "output_type": "stream",
     "text": [
      "   Name  Age  Salary    Bonus\n",
      "0  Dave   45  120000  12000.0\n",
      "1  Sara   30   75000   7500.0\n",
      "2  Anna   22   60000   6000.0\n"
     ]
    }
   ],
   "source": [
    "# Reset the index of the sorted DataFrame without keeping the original index.\n",
    "sorted.reset_index(drop=True, inplace=True)\n",
    "print(sorted)"
   ]
  },
  {
   "cell_type": "markdown",
   "id": "0621ff3e",
   "metadata": {},
   "source": [
    "# Create a DataFrame named sales_df with the following data"
   ]
  },
  {
   "cell_type": "code",
   "execution_count": 11,
   "id": "6f49a089",
   "metadata": {},
   "outputs": [
    {
     "name": "stdout",
     "output_type": "stream",
     "text": [
      "  Region Salesperson  Sales\n",
      "0   East        John   7000\n",
      "1   West        Anna  12000\n",
      "2   East        Mike   9000\n",
      "3   West        Sara  11000\n",
      "4   East        Dave  15000\n"
     ]
    }
   ],
   "source": [
    "data = {'Region':['East', 'West','East','West','East'], \n",
    "        'Salesperson': ['John', 'Anna', 'Mike', 'Sara', 'Dave'],\n",
    "       'Sales': [7000, 12000, 9000, 11000, 15000]\n",
    "       }\n",
    "\n",
    "sales_df = pd.DataFrame(data)\n",
    "print(sales_df)"
   ]
  },
  {
   "cell_type": "code",
   "execution_count": 12,
   "id": "adc0906c",
   "metadata": {},
   "outputs": [
    {
     "name": "stdout",
     "output_type": "stream",
     "text": [
      "Region\n",
      "East    31000\n",
      "West    23000\n",
      "Name: Sales, dtype: int64\n"
     ]
    }
   ],
   "source": [
    "# Group the dataframe by the Region and calculate the total sales for each region.\n",
    "TotalSalesByRegion = sales_df.groupby('Region')['Sales'].sum()\n",
    "print(TotalSalesByRegion)"
   ]
  },
  {
   "cell_type": "code",
   "execution_count": 13,
   "id": "a56089c3",
   "metadata": {},
   "outputs": [
    {
     "name": "stdout",
     "output_type": "stream",
     "text": [
      "Salesperson\n",
      "Anna    12000.0\n",
      "Dave    15000.0\n",
      "John     7000.0\n",
      "Mike     9000.0\n",
      "Sara    11000.0\n",
      "Name: Sales, dtype: float64\n"
     ]
    }
   ],
   "source": [
    "# Print the average sales for each salesperson\n",
    "AverageSales = sales_df.groupby('Salesperson')['Sales'].mean()\n",
    "print(AverageSales)"
   ]
  },
  {
   "cell_type": "markdown",
   "id": "4dba3984",
   "metadata": {},
   "source": [
    "# Merging two dataframes\n",
    "## Merging employee_df and sales_df"
   ]
  },
  {
   "cell_type": "code",
   "execution_count": 14,
   "id": "62ec9cb6",
   "metadata": {},
   "outputs": [
    {
     "name": "stdout",
     "output_type": "stream",
     "text": [
      "   Name  Age  Salary    Bonus Region Salesperson  Sales\n",
      "0  John   28   50000   5000.0   East        John   7000\n",
      "1  Anna   22   60000   6000.0   West        Anna  12000\n",
      "2  Mike   33   40000   4000.0   East        Mike   9000\n",
      "3  Sara   30   75000   7500.0   West        Sara  11000\n",
      "4  Dave   45  120000  12000.0   East        Dave  15000\n"
     ]
    }
   ],
   "source": [
    "# Merge the two DataFrames on the Name (in employee_df) and Salesperson (in sales_df) columns using inner join.\n",
    "merged_df = pd.merge(employee, sales_df, left_on='Name', right_on='Salesperson', how='inner')\n",
    "print(merged_df)"
   ]
  },
  {
   "cell_type": "code",
   "execution_count": 15,
   "id": "bed91d14",
   "metadata": {},
   "outputs": [
    {
     "data": {
      "text/html": [
       "<div>\n",
       "<style scoped>\n",
       "    .dataframe tbody tr th:only-of-type {\n",
       "        vertical-align: middle;\n",
       "    }\n",
       "\n",
       "    .dataframe tbody tr th {\n",
       "        vertical-align: top;\n",
       "    }\n",
       "\n",
       "    .dataframe thead th {\n",
       "        text-align: right;\n",
       "    }\n",
       "</style>\n",
       "<table border=\"1\" class=\"dataframe\">\n",
       "  <thead>\n",
       "    <tr style=\"text-align: right;\">\n",
       "      <th></th>\n",
       "      <th>Name</th>\n",
       "      <th>Age</th>\n",
       "      <th>Region</th>\n",
       "      <th>Sales</th>\n",
       "    </tr>\n",
       "  </thead>\n",
       "  <tbody>\n",
       "    <tr>\n",
       "      <th>0</th>\n",
       "      <td>John</td>\n",
       "      <td>28</td>\n",
       "      <td>East</td>\n",
       "      <td>7000</td>\n",
       "    </tr>\n",
       "    <tr>\n",
       "      <th>1</th>\n",
       "      <td>Anna</td>\n",
       "      <td>22</td>\n",
       "      <td>West</td>\n",
       "      <td>12000</td>\n",
       "    </tr>\n",
       "    <tr>\n",
       "      <th>2</th>\n",
       "      <td>Mike</td>\n",
       "      <td>33</td>\n",
       "      <td>East</td>\n",
       "      <td>9000</td>\n",
       "    </tr>\n",
       "    <tr>\n",
       "      <th>3</th>\n",
       "      <td>Sara</td>\n",
       "      <td>30</td>\n",
       "      <td>West</td>\n",
       "      <td>11000</td>\n",
       "    </tr>\n",
       "    <tr>\n",
       "      <th>4</th>\n",
       "      <td>Dave</td>\n",
       "      <td>45</td>\n",
       "      <td>East</td>\n",
       "      <td>15000</td>\n",
       "    </tr>\n",
       "  </tbody>\n",
       "</table>\n",
       "</div>"
      ],
      "text/plain": [
       "   Name  Age Region  Sales\n",
       "0  John   28   East   7000\n",
       "1  Anna   22   West  12000\n",
       "2  Mike   33   East   9000\n",
       "3  Sara   30   West  11000\n",
       "4  Dave   45   East  15000"
      ]
     },
     "execution_count": 15,
     "metadata": {},
     "output_type": "execute_result"
    }
   ],
   "source": [
    "# Display the merged dataframe and include only the Name, Age, Region and Sales columns.\n",
    "merged_df[['Name', 'Age', 'Region', 'Sales']]"
   ]
  },
  {
   "cell_type": "code",
   "execution_count": 16,
   "id": "46ce52eb",
   "metadata": {},
   "outputs": [
    {
     "name": "stdout",
     "output_type": "stream",
     "text": [
      "   Name  Age  Salary    Bonus Region Salesperson  Sales\n",
      "0  John   28   50000   5000.0   East        John   7000\n",
      "1  Anna   22   60000   6000.0   West        Anna  12000\n",
      "2  Mike   33   40000   4000.0   East        Mike   9000\n",
      "3  Sara   30   75000   7500.0   West        Sara  11000\n",
      "4  Dave   45  120000  12000.0   East        Dave  15000\n"
     ]
    }
   ],
   "source": [
    "# Handle any missing data by filling it with a default value of 0 in the merged DataFrame.\n",
    "merged_df.fillna(0, inplace=True)\n",
    "print(merged_df)"
   ]
  },
  {
   "cell_type": "markdown",
   "id": "78f98062",
   "metadata": {},
   "source": [
    "# Data visualization with pandas\n",
    "## using matplotlib library"
   ]
  },
  {
   "cell_type": "code",
   "execution_count": 17,
   "id": "e133f586",
   "metadata": {},
   "outputs": [],
   "source": [
    "import matplotlib.pyplot as plt"
   ]
  },
  {
   "cell_type": "code",
   "execution_count": 21,
   "id": "e2b55be9",
   "metadata": {},
   "outputs": [
    {
     "data": {
      "image/png": "[encoded data removed]",
      "text/plain": [
       "<Figure size 640x480 with 1 Axes>"
      ]
     },
     "metadata": {},
     "output_type": "display_data"
    }
   ],
   "source": [
    "# Create a bar plot showing total sales per region.\n",
    "TotalSalesByRegion.plot(kind='bar', title='Total Sales per Region', color=['red','green'])\n",
    "plt.xlabel('Regions')\n",
    "plt.ylabel('Sales')\n",
    "plt.show()"
   ]
  },
  {
   "cell_type": "code",
   "execution_count": 22,
   "id": "d44cd02e",
   "metadata": {},
   "outputs": [
    {
     "data": {
      "image/png": "[encoded data removed]",
      "text/plain": [
       "<Figure size 640x480 with 1 Axes>"
      ]
     },
     "metadata": {},
     "output_type": "display_data"
    }
   ],
   "source": [
    "# Create a pie chart representing the sales distribution by region.\n",
    "TotalSalesByRegion.plot(kind='pie', colors=['yellow','orange'], title='Sales distribution per region', autopct='%1.2f%%')\n",
    "plt.show()"
   ]
  },
  {
   "cell_type": "code",
   "execution_count": 23,
   "id": "14147c51",
   "metadata": {},
   "outputs": [
    {
     "data": {
      "image/png": "[encoded data removed]",
      "text/plain": [
       "<Figure size 640x480 with 1 Axes>"
      ]
     },
     "metadata": {},
     "output_type": "display_data"
    }
   ],
   "source": [
    "# Display the line chart showing sales trends for each salesperson (consider the index as the order of sales in the DataFrame)\n",
    "sales_df.plot(kind='line', x='Salesperson', y='Sales', title='Sales trends by Salesperson', marker='o')\n",
    "plt.ylabel(\"Sales\")\n",
    "plt.show()"
   ]
  },
  {
   "cell_type": "code",
   "execution_count": null,
   "id": "4b365e84",
   "metadata": {},
   "outputs": [],
   "source": []
  }
 ],
 "metadata": {
  "kernelspec": {
   "display_name": "Python 3 (ipykernel)",
   "language": "python",
   "name": "python3"
  },
  "language_info": {
   "codemirror_mode": {
    "name": "ipython",
    "version": 3
   },
   "file_extension": ".py",
   "mimetype": "text/x-python",
   "name": "python",
   "nbconvert_exporter": "python",
   "pygments_lexer": "ipython3",
   "version": "3.12.4"
  }
 },
 "nbformat": 4,
 "nbformat_minor": 5
}
