{
 "cells": [
  {
   "cell_type": "markdown",
   "id": "d58fd86c",
   "metadata": {},
   "source": [
    "# Welcome to numpy tutorial"
   ]
  },
  {
   "cell_type": "code",
   "execution_count": 3,
   "id": "4b507eb3",
   "metadata": {},
   "outputs": [],
   "source": [
    "import numpy as np"
   ]
  },
  {
   "cell_type": "code",
   "execution_count": 13,
   "id": "0d114ec8",
   "metadata": {},
   "outputs": [
    {
     "name": "stdout",
     "output_type": "stream",
     "text": [
      "[[1 2 3 4]\n",
      " [5 6 7 8]]\n"
     ]
    }
   ],
   "source": [
    "arr1 = np.array([[1,2,3,4],[5,6,7,8]])\n",
    "print(arr1)"
   ]
  },
  {
   "cell_type": "code",
   "execution_count": 14,
   "id": "8ddc07a2",
   "metadata": {},
   "outputs": [
    {
     "name": "stdout",
     "output_type": "stream",
     "text": [
      "[2 4 6 8]\n"
     ]
    }
   ],
   "source": [
    "arr2 = np.array([2,4,6,8], np.int8)        # the second argument provides the type of integer (here we have given an 8 bit integer)\n",
    "print(arr2)"
   ]
  },
  {
   "cell_type": "code",
   "execution_count": 15,
   "id": "7322dbdc",
   "metadata": {},
   "outputs": [
    {
     "data": {
      "text/plain": [
       "(2, 4)"
      ]
     },
     "execution_count": 15,
     "metadata": {},
     "output_type": "execute_result"
    }
   ],
   "source": [
    "arr1.shape            # provides the shape of array means the nubmer of rows and columns"
   ]
  },
  {
   "cell_type": "code",
   "execution_count": 16,
   "id": "0ba1d05a",
   "metadata": {},
   "outputs": [
    {
     "data": {
      "text/plain": [
       "(4,)"
      ]
     },
     "execution_count": 16,
     "metadata": {},
     "output_type": "execute_result"
    }
   ],
   "source": [
    "arr2.shape"
   ]
  },
  {
   "cell_type": "code",
   "execution_count": 22,
   "id": "0da8f118",
   "metadata": {},
   "outputs": [
    {
     "name": "stdout",
     "output_type": "stream",
     "text": [
      "[[  1   2   3 100]\n",
      " [  5   6   7   8]]\n",
      "[  2   4   6 100]\n"
     ]
    }
   ],
   "source": [
    "# we can also change the element\n",
    "arr1[0, 3] = 100\n",
    "print(arr1)\n",
    "\n",
    "arr2[3] = 100\n",
    "print(arr2)"
   ]
  },
  {
   "cell_type": "markdown",
   "id": "a196cd36",
   "metadata": {},
   "source": [
    "## Conversion from other Python structures"
   ]
  },
  {
   "cell_type": "code",
   "execution_count": 26,
   "id": "a3675e3b",
   "metadata": {},
   "outputs": [
    {
     "name": "stdout",
     "output_type": "stream",
     "text": [
      "[[1 2 3]\n",
      " [4 5 6]\n",
      " [7 8 9]]\n",
      "Datatype:  int32\n",
      "Shape:  (3, 3)\n",
      "Size:  9\n"
     ]
    }
   ],
   "source": [
    "# creating array from list\n",
    "listarray = np.array([[1,2,3],[4,5,6],[7,8,9]])\n",
    "print(listarray)\n",
    "print(\"Datatype: \",listarray.dtype)\n",
    "print(\"Shape: \",listarray.shape)\n",
    "print(\"Size: \",listarray.size)"
   ]
  },
  {
   "cell_type": "code",
   "execution_count": 31,
   "id": "adb2e818",
   "metadata": {},
   "outputs": [
    {
     "name": "stdout",
     "output_type": "stream",
     "text": [
      "{25, 22, 23}\n"
     ]
    }
   ],
   "source": [
    "# creating array from dictionary\n",
    "arr1 = np.array({22,23,25})\n",
    "print(arr1)"
   ]
  },
  {
   "cell_type": "code",
   "execution_count": 34,
   "id": "feeb9178",
   "metadata": {},
   "outputs": [
    {
     "name": "stdout",
     "output_type": "stream",
     "text": [
      "[[0. 0. 0. 0. 0.]\n",
      " [0. 0. 0. 0. 0.]]\n"
     ]
    }
   ],
   "source": [
    "# creating a zero array\n",
    "zeroArray = np.zeros((2,5))\n",
    "print(zeroArray)"
   ]
  },
  {
   "cell_type": "code",
   "execution_count": 36,
   "id": "3bf92368",
   "metadata": {},
   "outputs": [
    {
     "name": "stdout",
     "output_type": "stream",
     "text": [
      "[ 0  1  2  3  4  5  6  7  8  9 10 11 12 13 14]\n"
     ]
    }
   ],
   "source": [
    "# creating an array in range\n",
    "rng = np.arange(15)\n",
    "print(rng)"
   ]
  },
  {
   "cell_type": "code",
   "execution_count": 39,
   "id": "0898db8b",
   "metadata": {},
   "outputs": [
    {
     "name": "stdout",
     "output_type": "stream",
     "text": [
      "[1.         2.66666667 4.33333333 6.        ]\n",
      "[1. 2. 3. 4.]\n"
     ]
    }
   ],
   "source": [
    "lspace1 = np.linspace(1,6,4)      # gives 4 elements between 1 and 6 which are equally spaced\n",
    "print(lspace1)\n",
    "\n",
    "lspace2 = np.linspace(1,4,4)\n",
    "print(lspace2)"
   ]
  },
  {
   "cell_type": "code",
   "execution_count": 42,
   "id": "0ca3c505",
   "metadata": {},
   "outputs": [
    {
     "name": "stdout",
     "output_type": "stream",
     "text": [
      "[[1.15184944e-311 2.81617418e-322 0.00000000e+000 0.00000000e+000]\n",
      " [1.11260619e-306 2.46567317e+179 5.20764663e-090 5.73900956e+174]\n",
      " [1.52533325e-052 2.85471530e-056 6.48224660e+170 4.93432906e+257]]\n"
     ]
    }
   ],
   "source": [
    "# creating an empty array\n",
    "emp = np.empty((3, 4))                  # the default value can be any garbage value\n",
    "print(emp)"
   ]
  },
  {
   "cell_type": "code",
   "execution_count": 43,
   "id": "6c373d33",
   "metadata": {},
   "outputs": [
    {
     "name": "stdout",
     "output_type": "stream",
     "text": [
      "[[1. 0. 0. 0. 0.]\n",
      " [0. 1. 0. 0. 0.]\n",
      " [0. 0. 1. 0. 0.]\n",
      " [0. 0. 0. 1. 0.]\n",
      " [0. 0. 0. 0. 1.]]\n"
     ]
    }
   ],
   "source": [
    "# identity matrix\n",
    "ide = np.identity(5)          # gives an identity matrix of size 5x5\n",
    "print(ide)"
   ]
  },
  {
   "cell_type": "code",
   "execution_count": 48,
   "id": "366c823a",
   "metadata": {},
   "outputs": [
    {
     "data": {
      "text/plain": [
       "array([[0, 1, 2, 3, 4],\n",
       "       [5, 6, 7, 8, 9]])"
      ]
     },
     "execution_count": 48,
     "metadata": {},
     "output_type": "execute_result"
    }
   ],
   "source": [
    "# Reshape the size of array\n",
    "arr1 = np.arange(10)       # gives an array of values from 0 to 9\n",
    "arr1.reshape(2, 5)         # returns the reshaped array but it will not affect arr1\n",
    "# arr1.reshape(3,4)          # not allowed as the number of elements must be equal "
   ]
  },
  {
   "cell_type": "code",
   "execution_count": 49,
   "id": "dc85aa10",
   "metadata": {},
   "outputs": [
    {
     "name": "stdout",
     "output_type": "stream",
     "text": [
      "[[1 2 3]\n",
      " [4 5 6]\n",
      " [7 8 9]]\n"
     ]
    },
    {
     "data": {
      "text/plain": [
       "array([1, 2, 3, 4, 5, 6, 7, 8, 9])"
      ]
     },
     "execution_count": 49,
     "metadata": {},
     "output_type": "execute_result"
    }
   ],
   "source": [
    "# To convert a multidimensional array to 1D array\n",
    "arr2 = np.array([[1,2,3],[4,5,6],[7,8,9]])\n",
    "print(arr2)\n",
    "np.ravel(arr2)            # returns the elements in linear order"
   ]
  },
  {
   "cell_type": "markdown",
   "id": "403fcdbd",
   "metadata": {},
   "source": [
    "# Numpy axis"
   ]
  },
  {
   "cell_type": "code",
   "execution_count": null,
   "id": "9f7f99f6",
   "metadata": {},
   "outputs": [],
   "source": []
  }
 ],
 "metadata": {
  "kernelspec": {
   "display_name": "Python 3 (ipykernel)",
   "language": "python",
   "name": "python3"
  },
  "language_info": {
   "codemirror_mode": {
    "name": "ipython",
    "version": 3
   },
   "file_extension": ".py",
   "mimetype": "text/x-python",
   "name": "python",
   "nbconvert_exporter": "python",
   "pygments_lexer": "ipython3",
   "version": "3.12.4"
  }
 },
 "nbformat": 4,
 "nbformat_minor": 5
}
